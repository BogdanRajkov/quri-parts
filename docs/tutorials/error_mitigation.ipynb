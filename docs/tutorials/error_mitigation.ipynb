{
 "cells": [
  {
   "attachments": {},
   "cell_type": "markdown",
   "metadata": {},
   "source": [
    "# Error mitigation\n",
    "\n",
    "NISQ devices are noisy due to the imperfect gate operations, unwanted interactions with environment, and measurement errors. Error mitigation is a series of techniques used to reduce the effect of noise.\n",
    "\n",
    "In this tutorial, we will explore three error mitigation techniques: Reqdout error mitigation, Zero-noise Extrapolation (ZNE), and Clifford Data Regression (CDR)."
   ]
  },
  {
   "attachments": {},
   "cell_type": "markdown",
   "metadata": {},
   "source": [
    "## Prerequisite\n",
    "\n",
    "QURI Parts modules used in this tutorial: `quri-parts-circuit`, `quri-parts-core` and `quri-parts-qulacs`. You can install them as follows:"
   ]
  },
  {
   "cell_type": "code",
   "execution_count": null,
   "metadata": {},
   "outputs": [],
   "source": [
    "!pip install \"quri-parts[qulacs]\""
   ]
  },
  {
   "attachments": {},
   "cell_type": "markdown",
   "metadata": {},
   "source": [
    "## Prepare a circuit\n",
    "\n",
    "As a preparation, we create a circuit. The circuit consists of the identity part and the non-trivial part. Applying the circuit to $|000\\rangle$ results in $\\frac{1}{\\sqrt{2}}\\left(|000\\rangle + |111\\rangle\\right)$."
   ]
  },
  {
   "cell_type": "code",
   "execution_count": 1,
   "metadata": {},
   "outputs": [],
   "source": [
    "from quri_parts.circuit import QuantumCircuit\n",
    "\n",
    "qubit_count = 3\n",
    "\n",
    "identity_circuit = QuantumCircuit(3)\n",
    "identity_circuit.add_RX_gate(0, 1.3)\n",
    "identity_circuit.add_RY_gate(1, 0.2)\n",
    "identity_circuit.add_RZ_gate(0, -2.3)\n",
    "identity_circuit.add_SqrtXdag_gate(1)\n",
    "identity_circuit.add_T_gate(0)\n",
    "identity_circuit.add_RX_gate(1, 0.4)\n",
    "identity_circuit.add_RY_gate(0, 2.7)\n",
    "identity_circuit.add_Tdag_gate(1)\n",
    "identity_circuit.add_RY_gate(0, -2.7)\n",
    "identity_circuit.add_T_gate(1)\n",
    "identity_circuit.add_Tdag_gate(0)\n",
    "identity_circuit.add_RX_gate(1, -0.4)\n",
    "identity_circuit.add_RZ_gate(0, 2.3)\n",
    "identity_circuit.add_SqrtX_gate(1)\n",
    "identity_circuit.add_RX_gate(0, -1.3)\n",
    "identity_circuit.add_RY_gate(1, -0.2)\n",
    "\n",
    "circuit = QuantumCircuit(3)\n",
    "circuit += identity_circuit\n",
    "circuit.add_H_gate(0)\n",
    "circuit.add_CNOT_gate(0, 1)\n",
    "circuit.add_CNOT_gate(0, 2)\n"
   ]
  },
  {
   "attachments": {},
   "cell_type": "markdown",
   "metadata": {},
   "source": [
    "## Readout error mitigation\n",
    "\n",
    "Due to the inperfection of real devices, errors occur in state preparation and measurement. Readout error mitigation reduces the effect of those errors by applying inverse of such noisy operations."
   ]
  },
  {
   "attachments": {},
   "cell_type": "markdown",
   "metadata": {},
   "source": [
    "### Create a noise model\n",
    "\n",
    "Next, create a noise model with some `NoiseInstruction`s. Here we only consider `MeasurementNoise`."
   ]
  },
  {
   "cell_type": "code",
   "execution_count": 2,
   "metadata": {},
   "outputs": [],
   "source": [
    "import quri_parts.circuit.gate_names as gate_names\n",
    "from quri_parts.circuit.noise import BitFlipNoise, MeasurementNoise, NoiseModel\n",
    "\n",
    "noises = [MeasurementNoise([BitFlipNoise(0.01)])]\n",
    "noise_model = NoiseModel(noises)"
   ]
  },
  {
   "attachments": {},
   "cell_type": "markdown",
   "metadata": {},
   "source": [
    "This noise model introduces bit flip error during the measurement."
   ]
  },
  {
   "attachments": {},
   "cell_type": "markdown",
   "metadata": {},
   "source": [
    "### Sampling simulation with Qulacs\n",
    "\n",
    "First, we create a `Sampler` and execute the sampling without error mitigation."
   ]
  },
  {
   "cell_type": "code",
   "execution_count": 3,
   "metadata": {},
   "outputs": [
    {
     "data": {
      "text/plain": [
       "{0: 4826, 1: 58, 2: 35, 3: 57, 4: 52, 5: 56, 6: 51, 7: 4865}"
      ]
     },
     "execution_count": 3,
     "metadata": {},
     "output_type": "execute_result"
    }
   ],
   "source": [
    "from quri_parts.qulacs.sampler import create_qulacs_density_matrix_sampler\n",
    "\n",
    "sampler = create_qulacs_density_matrix_sampler(noise_model)\n",
    "counts = sampler(circuit, shots=10000)\n",
    "counts"
   ]
  },
  {
   "attachments": {},
   "cell_type": "markdown",
   "metadata": {},
   "source": [
    "### Create filter matrix\n",
    "\n",
    "The inverse of the noisy operation, here we call filter matrix, plays an important role in readout error mitigation. Noisy counts $C_{\\text{noisy}}$ can be considered as a product of ideal counts $C_{\\text{ideal}}$ which we could get in noiseless world and the error matrix $E$.\n",
    "\n",
    "$$\n",
    "C_{\\text{noisy}} = EC_{\\text{ideal}}\n",
    "$$\n",
    "\n",
    "Filter matrix is defined as the inverse of error matrix. With filter matrix we can estimate the error-free counts\n",
    "\n",
    "$$\n",
    "C_{\\text{ideal}} = E^{-1}C_{\\text{noisy}}.\n",
    "$$\n",
    "\n",
    "We can use `create_filter_matrix` to create filter matrix."
   ]
  },
  {
   "cell_type": "code",
   "execution_count": 4,
   "metadata": {},
   "outputs": [
    {
     "data": {
      "text/plain": [
       "array([[ 1.03068275e+00, -1.01349608e-02, -1.04645866e-02,\n",
       "         1.03365159e-04, -1.03953316e-02,  9.95681636e-05,\n",
       "         9.47870686e-05, -2.01077421e-06],\n",
       "       [-1.04140119e-02,  1.03069772e+00,  1.16609739e-04,\n",
       "        -1.01949983e-02,  1.08013439e-04, -1.06651833e-02,\n",
       "        -1.74623664e-06,  1.11625009e-04],\n",
       "       [-1.01469892e-02,  1.18681196e-04,  1.03097200e+00,\n",
       "        -1.04556507e-02,  1.03909360e-04, -1.99058169e-07,\n",
       "        -1.03319396e-02,  8.48514632e-05],\n",
       "       [ 9.37086037e-05, -1.04520983e-02, -1.03354433e-02,\n",
       "         1.03075958e+00, -3.13944684e-06,  1.28655794e-04,\n",
       "         7.99280257e-05, -1.01738878e-02],\n",
       "       [-1.04232404e-02,  1.18891486e-04,  1.07304094e-04,\n",
       "        -1.18574430e-06,  1.03096747e+00, -1.01154511e-02,\n",
       "        -1.04809785e-02,  1.18223577e-04],\n",
       "       [ 1.04935204e-04, -1.04417435e-02, -7.48155876e-07,\n",
       "         9.24974190e-05, -1.04517759e-02,  1.03102204e+00,\n",
       "         7.95793897e-05, -1.03007204e-02],\n",
       "       [ 1.03653009e-04, -1.21591754e-06, -1.04927563e-02,\n",
       "         9.72825724e-05, -1.04398192e-02,  1.08870660e-04,\n",
       "         1.03096744e+00, -1.04637989e-02],\n",
       "       [-8.00381732e-07,  9.47241239e-05,  9.76168841e-05,\n",
       "        -1.04008877e-02,  1.10669285e-04, -1.05783031e-02,\n",
       "        -1.04070687e-02,  1.03062572e+00]])"
      ]
     },
     "execution_count": 4,
     "metadata": {},
     "output_type": "execute_result"
    }
   ],
   "source": [
    "from quri_parts.algo.mitigation.readout_mitigation import create_filter_matrix\n",
    "from quri_parts.qulacs.sampler import create_qulacs_density_matrix_concurrent_sampler\n",
    "\n",
    "concurernt_sampler = create_qulacs_density_matrix_concurrent_sampler(noise_model)\n",
    "\n",
    "filter_matrix = create_filter_matrix(qubit_count, concurernt_sampler, shots=1000000)\n",
    "filter_matrix"
   ]
  },
  {
   "attachments": {},
   "cell_type": "markdown",
   "metadata": {},
   "source": [
    "### Execute readout error mitigation\n",
    "\n",
    "Now we can get error-mitigated counts by calling `readout_mitigation`."
   ]
  },
  {
   "cell_type": "code",
   "execution_count": 5,
   "metadata": {},
   "outputs": [
    {
     "data": {
      "text/plain": [
       "{0: 4972.586801353882,\n",
       " 1: 8.896745777231972,\n",
       " 3: 8.752725069936368,\n",
       " 4: 2.7924969739979524,\n",
       " 5: 6.990838075800608,\n",
       " 6: 1.2746415076822324,\n",
       " 7: 5012.288923858529}"
      ]
     },
     "execution_count": 5,
     "metadata": {},
     "output_type": "execute_result"
    }
   ],
   "source": [
    "from quri_parts.algo.mitigation.readout_mitigation import readout_mitigation\n",
    "\n",
    "mitigated_counts = readout_mitigation([counts], filter_matrix)\n",
    "next(mitigated_counts)"
   ]
  },
  {
   "attachments": {},
   "cell_type": "markdown",
   "metadata": {},
   "source": [
    "### Create readout error mitigation sampler\n",
    "\n",
    "We can also create a `ConcurrentSampler` that samples from noisy circuit and performs readout error mitigation behind the scenes."
   ]
  },
  {
   "cell_type": "code",
   "execution_count": 6,
   "metadata": {},
   "outputs": [
    {
     "data": {
      "text/plain": [
       "{0: 5036.221238492392,\n",
       " 2: 8.023577775017783,\n",
       " 6: 5.071641630911307,\n",
       " 7: 4985.411391425586}"
      ]
     },
     "execution_count": 6,
     "metadata": {},
     "output_type": "execute_result"
    }
   ],
   "source": [
    "from quri_parts.algo.mitigation.readout_mitigation import (\n",
    "    create_readout_mitigation_concurrent_sampler,\n",
    ")\n",
    "\n",
    "rem_concurrent_sampler = create_readout_mitigation_concurrent_sampler(qubit_count, concurernt_sampler, shots=1000000)\n",
    "\n",
    "counts_ = rem_concurrent_sampler([(circuit, 10000)])\n",
    "next(counts_)"
   ]
  },
  {
   "attachments": {},
   "cell_type": "markdown",
   "metadata": {},
   "source": [
    "## Zero-noise extrapolation\n",
    "\n",
    "ZNE is an error mitigation method that extrapolates the noiseless value from the multiple noise level values. To scale the noise level, whole or part of original circuit is extended. The simplest case is noise level 3.0, where we generate the scaled circuit\n",
    "\n",
    "$$\n",
    "U_{\\text{original}} \\rightarrow U_{\\text{original}}U^{-1}_{\\text{original}}U_{\\text{original}}.\n",
    "$$\n",
    "\n",
    "We can expect that this corresponds to noise level 3.0 since this circuit has three times as many gates as original gate has."
   ]
  },
  {
   "attachments": {},
   "cell_type": "markdown",
   "metadata": {},
   "source": [
    "### Create a noise model\n",
    "\n",
    "First, we create a noise model with some `NoiseInstruction`s. Here we consider `BitFlipNoise` and `DepolarizingNoise`."
   ]
  },
  {
   "cell_type": "code",
   "execution_count": 7,
   "metadata": {},
   "outputs": [],
   "source": [
    "import quri_parts.circuit.gate_names as gate_names\n",
    "from quri_parts.circuit.noise import (\n",
    "    BitFlipNoise,\n",
    "    DepolarizingNoise,\n",
    "    NoiseModel,\n",
    ")\n",
    "\n",
    "noises = [\n",
    "    BitFlipNoise(\n",
    "        error_prob=0.01,\n",
    "        qubit_indices=[],\n",
    "        target_gates=[],\n",
    "    ),\n",
    "    DepolarizingNoise(\n",
    "        error_prob=0.01,\n",
    "        qubit_indices=[],\n",
    "        target_gates=[],\n",
    "    ),\n",
    "]\n",
    "noise_model = NoiseModel(noises)\n"
   ]
  },
  {
   "attachments": {},
   "cell_type": "markdown",
   "metadata": {},
   "source": [
    "### Estimate the expectation value of an operator with Qulacs\n",
    "\n",
    "Next, we create noisy and noiseless estimator and compare the results."
   ]
  },
  {
   "cell_type": "code",
   "execution_count": 8,
   "metadata": {},
   "outputs": [
    {
     "name": "stdout",
     "output_type": "stream",
     "text": [
      "without noise: (1.0000000000000016+0j)\n",
      "with noise: (0.7725230020220358+0j)\n"
     ]
    }
   ],
   "source": [
    "from quri_parts.circuit.noise import NoiseModel\n",
    "from quri_parts.core.operator import Operator, pauli_label\n",
    "from quri_parts.core.state import GeneralCircuitQuantumState\n",
    "from quri_parts.qulacs.estimator import (\n",
    "    create_qulacs_density_matrix_concurrent_estimator,\n",
    ")\n",
    "\n",
    "operator = Operator({pauli_label(\"X0 X1 X2\"): 1.0})\n",
    "state = GeneralCircuitQuantumState(qubit_count, circuit)\n",
    "\n",
    "noiseless_estimator = create_qulacs_density_matrix_concurrent_estimator(NoiseModel())\n",
    "estimator = create_qulacs_density_matrix_concurrent_estimator(noise_model)\n",
    "\n",
    "noiseless_estimate = noiseless_estimator([operator], [state])\n",
    "print(f\"without noise: {noiseless_estimate[0].value}\")\n",
    "\n",
    "estimate = estimator([operator], [state])\n",
    "print(f\"with noise: {estimate[0].value}\")\n"
   ]
  },
  {
   "attachments": {},
   "cell_type": "markdown",
   "metadata": {},
   "source": [
    "### Create scaled circuits\n",
    "\n",
    "Next, create scaled circuits. To scale the circuits `scaling_circuit_folding` can be used. Quri Parts has multiple options for circuit folding. Here we use random folding. "
   ]
  },
  {
   "cell_type": "code",
   "execution_count": 9,
   "metadata": {},
   "outputs": [
    {
     "name": "stdout",
     "output_type": "stream",
     "text": [
      "scale factor 1.0: len(scaled_circuits[i].gates)=19, estimate: (0.7725230020220358+0j)\n",
      "scale factor 2.0: len(scaled_circuits[i].gates)=37, estimate: (0.6202190040024502+0j)\n",
      "scale factor 3.0: len(scaled_circuits[i].gates)=57, estimate: (0.464645554575118+0j)\n"
     ]
    }
   ],
   "source": [
    "from quri_parts.algo.mitigation.zero_noise_extrapolation.zero_noise_extrapolation import (\n",
    "    create_folding_random,\n",
    "    scaling_circuit_folding,\n",
    ")\n",
    "\n",
    "scale_factors = [1.0, 2.0, 3.0]\n",
    "\n",
    "random_folding = create_folding_random()\n",
    "scaled_circuits = [\n",
    "    scaling_circuit_folding(circuit, scale_factor, random_folding)\n",
    "    for scale_factor in scale_factors\n",
    "]\n",
    "\n",
    "estimates = [\n",
    "    estimator([operator], [GeneralCircuitQuantumState(qubit_count, scaled_circuit)])[\n",
    "        0\n",
    "    ].value\n",
    "    for scaled_circuit in scaled_circuits\n",
    "]\n",
    "\n",
    "for i, scale_factor in enumerate(scale_factors):\n",
    "    print(f\"scale factor {scale_factor}: {len(scaled_circuits[i].gates)=}, estimate: {estimates[i]}\")\n"
   ]
  },
  {
   "attachments": {},
   "cell_type": "markdown",
   "metadata": {},
   "source": [
    "### Extrapolate zero-noise value\n",
    "\n",
    "The last step is extrapolation. Quri Parts has multiple options for extrapolation. Here we use second-order polynomial extrapolation."
   ]
  },
  {
   "cell_type": "code",
   "execution_count": 10,
   "metadata": {},
   "outputs": [
    {
     "name": "stdout",
     "output_type": "stream",
     "text": [
      "mitigated estimate: (0.9215575486338767+0j)\n"
     ]
    }
   ],
   "source": [
    "from quri_parts.algo.mitigation.zero_noise_extrapolation import create_polynomial_extrapolate\n",
    "\n",
    "poly_extrapolation = create_polynomial_extrapolate(order=2)\n",
    "exp_vals = poly_extrapolation(scale_factors, estimates)\n",
    "print(f\"mitigated estimate: {exp_vals}\")"
   ]
  },
  {
   "attachments": {},
   "cell_type": "markdown",
   "metadata": {},
   "source": [
    "### Create ZNE estimator\n",
    "\n",
    "You can also create a `QuantumEstimator` that returns the error-mitigated estimate of a given operator and state behind the scenes."
   ]
  },
  {
   "cell_type": "code",
   "execution_count": 11,
   "metadata": {},
   "outputs": [
    {
     "data": {
      "text/plain": [
       "0.9215575486338767"
      ]
     },
     "execution_count": 11,
     "metadata": {},
     "output_type": "execute_result"
    }
   ],
   "source": [
    "from quri_parts.algo.mitigation.zero_noise_extrapolation import create_zne_estimator\n",
    "\n",
    "zne_estimator = create_zne_estimator(\n",
    "    estimator, scale_factors, poly_extrapolation, random_folding\n",
    ")\n",
    "\n",
    "mitigated_estimate = zne_estimator(operator, state)\n",
    "mitigated_estimate.value"
   ]
  },
  {
   "attachments": {},
   "cell_type": "markdown",
   "metadata": {},
   "source": [
    "## Clifford data regression\n",
    "\n",
    "CDR is an error mitigation method which predicts the noiseless value using training data, which can be generated by exact estimator and noisy estiamtor such as real devices. This technique is available even for large systems in the sense that Clifford+T simulator with moderate number of T gates can be simulated efficiently on a classical computer."
   ]
  },
  {
   "attachments": {},
   "cell_type": "markdown",
   "metadata": {},
   "source": [
    "### Create noise model\n",
    "\n",
    "First, we create a noise model with some `NoiseInstruction`s. Here we consider `BitFlipNoise` and `DepolarizingNoise`."
   ]
  },
  {
   "cell_type": "code",
   "execution_count": 12,
   "metadata": {},
   "outputs": [],
   "source": [
    "import quri_parts.circuit.gate_names as gate_names\n",
    "from quri_parts.circuit.noise import (\n",
    "    BitFlipNoise,\n",
    "    DepolarizingNoise,\n",
    "    NoiseModel,\n",
    ")\n",
    "\n",
    "noises = [\n",
    "    BitFlipNoise(\n",
    "        error_prob=0.01,\n",
    "        qubit_indices=[],\n",
    "        target_gates=[],\n",
    "    ),\n",
    "    DepolarizingNoise(\n",
    "        error_prob=0.01,\n",
    "        qubit_indices=[],\n",
    "        target_gates=[],\n",
    "    ),\n",
    "]\n",
    "noise_model = NoiseModel(noises)\n"
   ]
  },
  {
   "attachments": {},
   "cell_type": "markdown",
   "metadata": {},
   "source": [
    "## "
   ]
  },
  {
   "attachments": {},
   "cell_type": "markdown",
   "metadata": {},
   "source": [
    "### Estimate the expectation value of an operator with Qulacs\n",
    "\n",
    "Let's see how noisy result differs from exact one."
   ]
  },
  {
   "cell_type": "code",
   "execution_count": 13,
   "metadata": {},
   "outputs": [
    {
     "name": "stdout",
     "output_type": "stream",
     "text": [
      "with noise: (0.9999999999999996+0j)\n",
      "without noise: (0.7725230020220358+0j)\n"
     ]
    }
   ],
   "source": [
    "from quri_parts.circuit.noise import NoiseModel\n",
    "from quri_parts.core.operator import Operator, pauli_label\n",
    "from quri_parts.core.state import GeneralCircuitQuantumState\n",
    "from quri_parts.qulacs.estimator import (\n",
    "    create_qulacs_density_matrix_concurrent_estimator,\n",
    "    create_qulacs_vector_concurrent_estimator\n",
    ")\n",
    "\n",
    "operator = Operator({pauli_label(\"X0 X1 X2\"): 1.0})\n",
    "state = GeneralCircuitQuantumState(qubit_count, circuit)\n",
    "\n",
    "exact_estimator = create_qulacs_vector_concurrent_estimator()\n",
    "noisy_estimator = create_qulacs_density_matrix_concurrent_estimator(noise_model)\n",
    "\n",
    "exact_estimate = exact_estimator([operator], [state])\n",
    "print(f\"with noise: {exact_estimate[0].value}\")\n",
    "\n",
    "noisy_estimate = noisy_estimator([operator], [state])\n",
    "print(f\"without noise: {noisy_estimate[0].value}\")\n"
   ]
  },
  {
   "attachments": {},
   "cell_type": "markdown",
   "metadata": {},
   "source": [
    "### Create training data\n",
    "\n",
    "Next, we create training circuits and data. Training circuits are generated by replacing randomly chosen non-Clifford gates in the circuit with the closest Clifford gates. The number of non-Clifford gates determines the computational cost for Clifford+T simulator. Here, we generate 8 training circuits and each circuit has 6 non-Clifford gates.\n",
    "\n",
    "After generating training circuit, we calculate the estimates for exact and noisy estimators."
   ]
  },
  {
   "cell_type": "code",
   "execution_count": 14,
   "metadata": {},
   "outputs": [
    {
     "name": "stdout",
     "output_type": "stream",
     "text": [
      "exact estimates:\n",
      "[(0.5724351799704074+0j), (0.9532271771228639+0j), (0.842318764179071+0j), (0.6779810445579227+0j), (0.7185303611011431+0j), (0.9532271771228645+0j), (0.9931358223287071+0j), (0.95203607100853+0j)]\n",
      "noisy estimates:\n",
      "[(0.4546693759511272+0j), (0.7222665757989428+0j), (0.6404080799461013+0j), (0.5342837905262765+0j), (0.534585912902724+0j), (0.7222665757989432+0j), (0.736986154958858+0j), (0.7293276962853557+0j)]\n"
     ]
    }
   ],
   "source": [
    "from quri_parts.algo.mitigation.clifford_data_regression.clifford_data_regression import (\n",
    "    make_training_circuit,\n",
    ")\n",
    "\n",
    "training_circuits = make_training_circuit(circuit, 6, 8)\n",
    "\n",
    "exact_estimates = [\n",
    "    exact_estimator(\n",
    "        [operator], [GeneralCircuitQuantumState(qubit_count, training_circuit)]\n",
    "    )[0].value\n",
    "    for training_circuit in training_circuits\n",
    "]\n",
    "\n",
    "print(\"exact estimates:\")\n",
    "print(exact_estimates)\n",
    "\n",
    "noisy_estimates = [\n",
    "    noisy_estimator(\n",
    "        [operator], [GeneralCircuitQuantumState(qubit_count, training_circuit)]\n",
    "    )[0].value\n",
    "    for training_circuit in training_circuits\n",
    "]\n",
    "print(\"noisy estimates:\")\n",
    "print(noisy_estimates)\n"
   ]
  },
  {
   "attachments": {},
   "cell_type": "markdown",
   "metadata": {},
   "source": [
    "### Define the regression function and get the mitigated value\n",
    "\n",
    "Finally, we predict noiseless value by regression. Quri Parts has multiple options for regression. Here we perform second-order polynomial regression."
   ]
  },
  {
   "cell_type": "code",
   "execution_count": 15,
   "metadata": {},
   "outputs": [
    {
     "name": "stdout",
     "output_type": "stream",
     "text": [
      "mitigated value: 1.0208176689732764\n"
     ]
    }
   ],
   "source": [
    "from quri_parts.algo.mitigation.clifford_data_regression import (\n",
    "    create_polynomial_regression,\n",
    ")\n",
    "\n",
    "poly_regression = create_polynomial_regression(order=2)\n",
    "\n",
    "mitigated_val = poly_regression(\n",
    "    noisy_estimate[0].value, noisy_estimates, exact_estimates\n",
    ").real\n",
    "\n",
    "print(f\"mitigated value: {mitigated_val}\")\n"
   ]
  },
  {
   "attachments": {},
   "cell_type": "markdown",
   "metadata": {},
   "source": [
    "### Create the CDR estimator\n",
    "\n",
    "You can also create a CDR estimator that performs CDR behind the scenes. Once it's created, you can use it as a `QuantumEstimator`, which accepts `Estimatable` and `~QuantumState` and returns `Estimate`."
   ]
  },
  {
   "cell_type": "code",
   "execution_count": 16,
   "metadata": {},
   "outputs": [
    {
     "data": {
      "text/plain": [
       "_Estimate(value=1.0143081257198148, error=nan)"
      ]
     },
     "execution_count": 16,
     "metadata": {},
     "output_type": "execute_result"
    }
   ],
   "source": [
    "from quri_parts.algo.mitigation.clifford_data_regression import create_cdr_estimator\n",
    "\n",
    "cdr_estimator = create_cdr_estimator(noisy_estimator, exact_estimator, poly_regression, 10, 0.5)\n",
    "\n",
    "estimate = cdr_estimator(operator, state)\n",
    "estimate"
   ]
  }
 ],
 "metadata": {
  "kernelspec": {
   "display_name": ".venv",
   "language": "python",
   "name": "python3"
  },
  "language_info": {
   "codemirror_mode": {
    "name": "ipython",
    "version": 3
   },
   "file_extension": ".py",
   "mimetype": "text/x-python",
   "name": "python",
   "nbconvert_exporter": "python",
   "pygments_lexer": "ipython3",
   "version": "3.9.13"
  },
  "orig_nbformat": 4,
  "vscode": {
   "interpreter": {
    "hash": "8a5950dd6e53f32f77ce2e4ebb67352bab69c6eaf4d776c449761d0964710731"
   }
  }
 },
 "nbformat": 4,
 "nbformat_minor": 2
}
